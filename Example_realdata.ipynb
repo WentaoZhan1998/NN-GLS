{
 "cells": [
  {
   "cell_type": "code",
   "execution_count": 1,
   "id": "5530ed83-7dcf-4057-b162-18d302a4ed0e",
   "metadata": {},
   "outputs": [],
   "source": [
    "%load_ext autoreload\n",
    "%autoreload 2"
   ]
  },
  {
   "cell_type": "code",
   "execution_count": 1,
   "id": "47bd7f66-09e5-4bb5-b958-1c00098c98f0",
   "metadata": {},
   "outputs": [],
   "source": [
    "import torch\n",
    "import nngls\n",
    "import numpy as np\n",
    "import time\n",
    "import pandas as pd\n",
    "import seaborn as sns\n",
    "import matplotlib.pyplot as plt"
   ]
  },
  {
   "cell_type": "code",
   "execution_count": 2,
   "id": "c5721bf5-b4d8-495c-89db-b0962187dac8",
   "metadata": {},
   "outputs": [
    {
     "data": {
      "text/html": [
       "<div>\n",
       "<style scoped>\n",
       "    .dataframe tbody tr th:only-of-type {\n",
       "        vertical-align: middle;\n",
       "    }\n",
       "\n",
       "    .dataframe tbody tr th {\n",
       "        vertical-align: top;\n",
       "    }\n",
       "\n",
       "    .dataframe thead th {\n",
       "        text-align: right;\n",
       "    }\n",
       "</style>\n",
       "<table border=\"1\" class=\"dataframe\">\n",
       "  <thead>\n",
       "    <tr style=\"text-align: right;\">\n",
       "      <th></th>\n",
       "      <th>Unnamed: 0</th>\n",
       "      <th>precipitation</th>\n",
       "      <th>temperature</th>\n",
       "      <th>air pressure</th>\n",
       "      <th>relative humidity</th>\n",
       "      <th>U-wind</th>\n",
       "      <th>V-wind</th>\n",
       "      <th>PM 2.5</th>\n",
       "      <th>longitude</th>\n",
       "      <th>latitude</th>\n",
       "    </tr>\n",
       "  </thead>\n",
       "  <tbody>\n",
       "    <tr>\n",
       "      <th>0</th>\n",
       "      <td>0</td>\n",
       "      <td>0.008044</td>\n",
       "      <td>0.362296</td>\n",
       "      <td>0.887664</td>\n",
       "      <td>0.774197</td>\n",
       "      <td>0.868530</td>\n",
       "      <td>0.781498</td>\n",
       "      <td>5.020834</td>\n",
       "      <td>0.980311</td>\n",
       "      <td>0.906268</td>\n",
       "    </tr>\n",
       "    <tr>\n",
       "      <th>1</th>\n",
       "      <td>1</td>\n",
       "      <td>0.005516</td>\n",
       "      <td>0.355305</td>\n",
       "      <td>0.882153</td>\n",
       "      <td>0.751742</td>\n",
       "      <td>0.864206</td>\n",
       "      <td>0.770715</td>\n",
       "      <td>3.837500</td>\n",
       "      <td>0.983093</td>\n",
       "      <td>0.889762</td>\n",
       "    </tr>\n",
       "    <tr>\n",
       "      <th>2</th>\n",
       "      <td>2</td>\n",
       "      <td>0.000000</td>\n",
       "      <td>0.335323</td>\n",
       "      <td>0.928359</td>\n",
       "      <td>0.714189</td>\n",
       "      <td>0.697080</td>\n",
       "      <td>0.813224</td>\n",
       "      <td>2.041666</td>\n",
       "      <td>0.974238</td>\n",
       "      <td>0.814722</td>\n",
       "    </tr>\n",
       "    <tr>\n",
       "      <th>3</th>\n",
       "      <td>3</td>\n",
       "      <td>0.000000</td>\n",
       "      <td>0.338579</td>\n",
       "      <td>0.954218</td>\n",
       "      <td>0.690767</td>\n",
       "      <td>0.625266</td>\n",
       "      <td>0.868161</td>\n",
       "      <td>3.669444</td>\n",
       "      <td>0.976951</td>\n",
       "      <td>0.798275</td>\n",
       "    </tr>\n",
       "    <tr>\n",
       "      <th>4</th>\n",
       "      <td>4</td>\n",
       "      <td>0.002528</td>\n",
       "      <td>0.293827</td>\n",
       "      <td>0.893599</td>\n",
       "      <td>0.685830</td>\n",
       "      <td>0.688808</td>\n",
       "      <td>0.842395</td>\n",
       "      <td>1.020833</td>\n",
       "      <td>0.945193</td>\n",
       "      <td>0.800337</td>\n",
       "    </tr>\n",
       "    <tr>\n",
       "      <th>...</th>\n",
       "      <td>...</td>\n",
       "      <td>...</td>\n",
       "      <td>...</td>\n",
       "      <td>...</td>\n",
       "      <td>...</td>\n",
       "      <td>...</td>\n",
       "      <td>...</td>\n",
       "      <td>...</td>\n",
       "      <td>...</td>\n",
       "      <td>...</td>\n",
       "    </tr>\n",
       "    <tr>\n",
       "      <th>600</th>\n",
       "      <td>600</td>\n",
       "      <td>0.393932</td>\n",
       "      <td>0.901079</td>\n",
       "      <td>0.972022</td>\n",
       "      <td>0.910279</td>\n",
       "      <td>0.642436</td>\n",
       "      <td>0.469410</td>\n",
       "      <td>5.168750</td>\n",
       "      <td>0.469337</td>\n",
       "      <td>0.101640</td>\n",
       "    </tr>\n",
       "    <tr>\n",
       "      <th>601</th>\n",
       "      <td>601</td>\n",
       "      <td>0.000689</td>\n",
       "      <td>0.810329</td>\n",
       "      <td>0.897414</td>\n",
       "      <td>0.539392</td>\n",
       "      <td>0.553265</td>\n",
       "      <td>0.464926</td>\n",
       "      <td>6.041666</td>\n",
       "      <td>0.436702</td>\n",
       "      <td>0.098054</td>\n",
       "    </tr>\n",
       "    <tr>\n",
       "      <th>602</th>\n",
       "      <td>602</td>\n",
       "      <td>0.294415</td>\n",
       "      <td>0.882501</td>\n",
       "      <td>0.972022</td>\n",
       "      <td>0.822590</td>\n",
       "      <td>0.642248</td>\n",
       "      <td>0.469353</td>\n",
       "      <td>8.704166</td>\n",
       "      <td>0.468665</td>\n",
       "      <td>0.090378</td>\n",
       "    </tr>\n",
       "    <tr>\n",
       "      <th>603</th>\n",
       "      <td>603</td>\n",
       "      <td>0.011492</td>\n",
       "      <td>0.811830</td>\n",
       "      <td>0.965240</td>\n",
       "      <td>0.719028</td>\n",
       "      <td>0.676463</td>\n",
       "      <td>0.512429</td>\n",
       "      <td>8.725000</td>\n",
       "      <td>0.460179</td>\n",
       "      <td>0.035680</td>\n",
       "    </tr>\n",
       "    <tr>\n",
       "      <th>604</th>\n",
       "      <td>604</td>\n",
       "      <td>0.256952</td>\n",
       "      <td>0.775792</td>\n",
       "      <td>0.975837</td>\n",
       "      <td>0.802168</td>\n",
       "      <td>0.696516</td>\n",
       "      <td>0.509137</td>\n",
       "      <td>8.213636</td>\n",
       "      <td>0.470595</td>\n",
       "      <td>0.032926</td>\n",
       "    </tr>\n",
       "  </tbody>\n",
       "</table>\n",
       "<p>605 rows × 10 columns</p>\n",
       "</div>"
      ],
      "text/plain": [
       "     Unnamed: 0  precipitation  temperature  air pressure  relative humidity  \\\n",
       "0             0       0.008044     0.362296      0.887664           0.774197   \n",
       "1             1       0.005516     0.355305      0.882153           0.751742   \n",
       "2             2       0.000000     0.335323      0.928359           0.714189   \n",
       "3             3       0.000000     0.338579      0.954218           0.690767   \n",
       "4             4       0.002528     0.293827      0.893599           0.685830   \n",
       "..          ...            ...          ...           ...                ...   \n",
       "600         600       0.393932     0.901079      0.972022           0.910279   \n",
       "601         601       0.000689     0.810329      0.897414           0.539392   \n",
       "602         602       0.294415     0.882501      0.972022           0.822590   \n",
       "603         603       0.011492     0.811830      0.965240           0.719028   \n",
       "604         604       0.256952     0.775792      0.975837           0.802168   \n",
       "\n",
       "       U-wind    V-wind    PM 2.5  longitude  latitude  \n",
       "0    0.868530  0.781498  5.020834   0.980311  0.906268  \n",
       "1    0.864206  0.770715  3.837500   0.983093  0.889762  \n",
       "2    0.697080  0.813224  2.041666   0.974238  0.814722  \n",
       "3    0.625266  0.868161  3.669444   0.976951  0.798275  \n",
       "4    0.688808  0.842395  1.020833   0.945193  0.800337  \n",
       "..        ...       ...       ...        ...       ...  \n",
       "600  0.642436  0.469410  5.168750   0.469337  0.101640  \n",
       "601  0.553265  0.464926  6.041666   0.436702  0.098054  \n",
       "602  0.642248  0.469353  8.704166   0.468665  0.090378  \n",
       "603  0.676463  0.512429  8.725000   0.460179  0.035680  \n",
       "604  0.696516  0.509137  8.213636   0.470595  0.032926  \n",
       "\n",
       "[605 rows x 10 columns]"
      ]
     },
     "execution_count": 2,
     "metadata": {},
     "output_type": "execute_result"
    }
   ],
   "source": [
    "data_PM25 = pd.read_csv(\"./data/Normalized_PM2.5_20190605.csv\")\n",
    "data_PM25"
   ]
  },
  {
   "cell_type": "code",
   "execution_count": 3,
   "id": "afe260b7-3012-4889-9632-0926ff3c75a7",
   "metadata": {},
   "outputs": [],
   "source": [
    "X = torch.from_numpy(data_PM25[['precipitation', 'temperature', 'air pressure', 'relative humidity', 'U-wind', 'V-wind']].to_numpy()).float()\n",
    "Y = torch.from_numpy(data_PM25[['PM 2.5']].to_numpy().reshape(-1)).float()\n",
    "coord = torch.from_numpy(data_PM25[['longitude', 'latitude']].to_numpy()).float()\n",
    "\n",
    "p = X.shape[1]\n",
    "\n",
    "n = X.shape[0]\n",
    "nn = 20\n",
    "batch_size = 50\n",
    "\n",
    "data = nngls.make_graph(X, Y, coord, nn)\n",
    "\n",
    "data_train, data_val, data_test = nngls.split_data(X, Y, coord, neighbor_size = 20, \n",
    "                                                   test_proportion = 0.2)"
   ]
  },
  {
   "cell_type": "code",
   "execution_count": 4,
   "id": "1e889b25-b3c0-402e-adeb-58fc86d44bbb",
   "metadata": {},
   "outputs": [
    {
     "name": "stdout",
     "output_type": "stream",
     "text": [
      "Epoch 00025: reducing learning rate of group 0 to 5.0000e-03.\n",
      "Epoch 00033: reducing learning rate of group 0 to 2.5000e-03.\n",
      "INFO: Early stopping\n",
      "End at epoch36\n"
     ]
    }
   ],
   "source": [
    "start_time = time.time()\n",
    "mlp_nn = torch.nn.Sequential(\n",
    "    torch.nn.Linear(p, 50),\n",
    "    torch.nn.ReLU(),\n",
    "    torch.nn.Linear(50, 20),\n",
    "    torch.nn.ReLU(),\n",
    "    torch.nn.Linear(20, 1),\n",
    ")\n",
    "nn_model = nngls.nn_train(mlp_nn, lr =  0.01, min_delta = 0.001)\n",
    "training_log = nn_model.train(data_train, data_val, data_test)"
   ]
  },
  {
   "cell_type": "code",
   "execution_count": 5,
   "id": "e6e48052-b471-47b0-8c22-0e606d503f15",
   "metadata": {},
   "outputs": [
    {
     "name": "stdout",
     "output_type": "stream",
     "text": [
      "Theta updated from\n",
      "[1.   1.5  0.01]\n",
      "Epoch 00016: reducing learning rate of group 0 to 5.0000e-03.\n",
      "Theta updated from\n",
      "[11.01966699  9.06512207  0.16149216]\n",
      "to\n",
      "[13.22274841  5.5262049   0.13972416]\n",
      "Theta updated from\n",
      "[13.22274841  5.5262049   0.13972416]\n",
      "to\n",
      "[13.13840548  5.37253297  0.14169136]\n",
      "Epoch 00034: reducing learning rate of group 0 to 2.5000e-03.\n",
      "INFO: Early stopping\n",
      "End at epoch37\n"
     ]
    }
   ],
   "source": [
    "\n",
    "theta0 = nngls.theta_update(torch.tensor([1, 1.5, 0.01]), mlp_nn(data_train.x).squeeze() - data_train.y, data_train.pos, neighbor_size = 20)\n",
    "mlp_nngls = torch.nn.Sequential(\n",
    "    torch.nn.Linear(p, 100),\n",
    "    torch.nn.ReLU(),\n",
    "    torch.nn.Linear(100, 50),\n",
    "    torch.nn.ReLU(),\n",
    "    torch.nn.Linear(50, 20),\n",
    "    torch.nn.ReLU(),\n",
    "    torch.nn.Linear(20, 10),\n",
    "    torch.nn.ReLU(),\n",
    "    torch.nn.Linear(10, 1),\n",
    ")\n",
    "model = nngls.nngls(p=p, neighbor_size=nn, coord_dimensions=2, mlp=mlp_nngls, theta=torch.tensor(theta0))\n",
    "nngls_model = nngls.nngls_train(model, lr =  0.01, min_delta = 0.001)\n",
    "training_log = nngls_model.train(data_train, data_val, data_test,\n",
    "                                 Update_init = 20, Update_step = 10)\n",
    "end_time = time.time()"
   ]
  },
  {
   "cell_type": "code",
   "execution_count": 6,
   "id": "9642ae13-7ba1-471d-918f-b8e68749ea34",
   "metadata": {},
   "outputs": [
    {
     "name": "stdout",
     "output_type": "stream",
     "text": [
      "Benchmark MSE: 16.841\n"
     ]
    }
   ],
   "source": [
    "# Compute benchmark MSE (always predicting the mean)\n",
    "benchmark_preds = torch.full(data_test.y.shape, data_train.y.mean())\n",
    "benchmark_mse = torch.nn.functional.mse_loss(benchmark_preds, data_test.y)\n",
    "print(f'Benchmark MSE: {benchmark_mse:.3f}')"
   ]
  },
  {
   "cell_type": "code",
   "execution_count": 7,
   "id": "b60079a5-0266-42ba-82a8-22c18c498e4f",
   "metadata": {},
   "outputs": [
    {
     "name": "stdout",
     "output_type": "stream",
     "text": [
      "Running time: 15.177408933639526 seconds\n"
     ]
    }
   ],
   "source": [
    "print(f\"\\rRunning time: {end_time - start_time} seconds\")"
   ]
  },
  {
   "cell_type": "code",
   "execution_count": 8,
   "id": "5a2bf7d1-7579-4b2f-a04a-a6f3736ced6c",
   "metadata": {},
   "outputs": [
    {
     "name": "stderr",
     "output_type": "stream",
     "text": [
      "/Users/zhanwentao/Documents/Abhi/NN/NN-GLS/nngls/utils.py:500: UserWarning: The use of `x.T` on tensors of dimension other than 2 to reverse their shape is deprecated and it will throw an error in a future release. Consider `x.mT` to transpose batches of matrices or `x.permute(*torch.arange(x.ndim - 1, -1, -1))` to reverse the dimensions of a tensor. (Triggered internally at /Users/runner/work/pytorch/pytorch/pytorch/aten/src/ATen/native/TensorShape.cpp:3575.)\n",
      "  w_test[i] = torch.dot(bi.T, w_train[ind]).squeeze()\n"
     ]
    },
    {
     "data": {
      "image/png": "[encoded data removed]",
      "text/plain": [
       "<Figure size 640x480 with 1 Axes>"
      ]
     },
     "metadata": {},
     "output_type": "display_data"
    }
   ],
   "source": [
    "test_predict = model.predict(data_train, data_test)\n",
    "plt.clf()\n",
    "plt.scatter(test_predict.detach().numpy(), data_test.y.detach().numpy(), s = 1, label = 'Truth vs prediction')\n",
    "plt.scatter(data_test.y.detach().numpy(), data_test.y.detach().numpy(), s = 1, label = 'reference')\n",
    "plt.xlabel(\"Prediction\")\n",
    "plt.ylabel(\"Truth\")\n",
    "plt.legend()\n",
    "plt.show()"
   ]
  },
  {
   "cell_type": "code",
   "execution_count": null,
   "id": "de819b1b-54d7-403f-8ae1-a6ed9855b42c",
   "metadata": {},
   "outputs": [],
   "source": []
  }
 ],
 "metadata": {
  "kernelspec": {
   "display_name": "Python 3 (ipykernel)",
   "language": "python",
   "name": "python3"
  },
  "language_info": {
   "codemirror_mode": {
    "name": "ipython",
    "version": 3
   },
   "file_extension": ".py",
   "mimetype": "text/x-python",
   "name": "python",
   "nbconvert_exporter": "python",
   "pygments_lexer": "ipython3",
   "version": "3.10.9"
  }
 },
 "nbformat": 4,
 "nbformat_minor": 5
}
